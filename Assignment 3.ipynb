{
 "cells": [
  {
   "cell_type": "markdown",
   "metadata": {},
   "source": [
    "Task 1:\n",
    "    \n",
    "1    Write a function to compute 5/0 and use try/except to catch the exceptions."
   ]
  },
  {
   "cell_type": "code",
   "execution_count": 27,
   "metadata": {},
   "outputs": [
    {
     "name": "stdout",
     "output_type": "stream",
     "text": [
      "The Exception :  <class 'ZeroDivisionError'> *********\n"
     ]
    }
   ],
   "source": [
    "def compute(num):\n",
    "    try:\n",
    "        a= 5/num\n",
    "        print(\"The result = \", a)\n",
    "    except Exception as e:\n",
    "        print(\"The Exception : \", e.__class__, \"*********\")\n",
    "\n",
    "compute(0)"
   ]
  },
  {
   "cell_type": "markdown",
   "metadata": {},
   "source": [
    "2.\n",
    "\n",
    "Implement a Python program to generate all sentences where \n",
    "subject    is in [\"Americans\", \"Indians\"] and \n",
    "verb       is in [\"Play\", \"watch\"] and \n",
    "the object is in [\"Baseball\",\"cricket\"].\n",
    "\n",
    "Hint: Subject,Verb and Object should be declared in the program as shown below.\n",
    "\n",
    "subjects= [\"Americans \",\"Indians\"]\n",
    "verbs   = [\"play\",\"watch\"]\n",
    "objects = [\"Baseball\",\"Cricket\"]\n",
    "\n",
    "Output should come as below:\n",
    "\n",
    "Americans play Baseball.\n",
    "Americans play Cricket.\n",
    "Americans watch Baseball.\n",
    "Americans watch Cricket.\n",
    "Indians play Baseball.\n",
    "Indians play Cricket.\n",
    "Indians watch Baseball.\n",
    "Indians watch Cricket."
   ]
  },
  {
   "cell_type": "code",
   "execution_count": 43,
   "metadata": {},
   "outputs": [
    {
     "name": "stdout",
     "output_type": "stream",
     "text": [
      "Americans Play Baseball.\n",
      "Americans Play cricket.\n",
      "Americans watch Baseball.\n",
      "Americans watch cricket.\n",
      "Indians Play Baseball.\n",
      "Indians Play cricket.\n",
      "Indians watch Baseball.\n",
      "Indians watch cricket.\n"
     ]
    }
   ],
   "source": [
    "subjects = [\"Americans\", \"Indians\"]\n",
    "verbs    = [\"Play\", \"watch\"]\n",
    "objects  = [\"Baseball\",\"cricket\"]\n",
    "\n",
    "sent_list =[]\n",
    "lst =(sub + \" \" + ver + \" \" + obj + \".\" for sub in subjects for ver in verbs for obj in objects)\n",
    "for i in lst:\n",
    "    print(i)\n"
   ]
  },
  {
   "cell_type": "markdown",
   "metadata": {},
   "source": [
    "1.\n",
    "\n",
    "Write a \"function\" so that the columns of the output matrix are powers of the input vector.\n",
    "\n",
    "The order of the powers is determined by the increasing boolean argument. \n",
    "\n",
    "Specifically, when increasing is False, the i-th output column is the input vector raised element-wise to the power of N - i - 1.\n",
    "\n",
    "HINT: Such a matrix with a geometric progression in each row is named for Alexandre-\n",
    "Theophile Vandermonde."
   ]
  },
  {
   "cell_type": "code",
   "execution_count": 99,
   "metadata": {},
   "outputs": [
    {
     "name": "stdout",
     "output_type": "stream",
     "text": [
      " *** Alexandre-Theophile Vandermonde Matrix *** \n",
      "Decreasing order\n",
      "0 0 0 0 1 \n",
      "1 1 1 1 1 \n",
      "16 8 4 2 1 \n",
      "81 27 9 3 1 \n",
      "256 64 16 4 1 \n",
      "\n",
      " *** Alexandre-Theophile Vandermonde Matrix *** \n",
      "Increasing Order\n",
      "1 0 0 0 0 \n",
      "1 1 1 1 1 \n",
      "1 2 4 8 16 \n",
      "1 3 9 27 81 \n",
      "1 4 16 64 256 \n",
      "\n",
      " *** Alexandre-Theophile Vandermonde Matrix *** \n",
      "Decreasing order\n",
      "0 0 0 0 1 \n",
      "1 1 1 1 1 \n",
      "16 8 4 2 1 \n",
      "81 27 9 3 1 \n",
      "256 64 16 4 1 \n",
      "\n",
      " *** Alexandre-Theophile Vandermonde Matrix *** \n",
      "Increasing Order\n",
      "1 0 0 0 0 \n",
      "1 1 1 1 1 \n",
      "1 2 4 8 16 \n",
      "1 3 9 27 81 \n",
      "1 4 16 64 256 \n",
      "\n"
     ]
    }
   ],
   "source": [
    "def Vandermonde(ip_vector, n, increasing = False):\n",
    "    print(\" *** Alexandre-Theophile Vandermonde Matrix *** \")\n",
    "    if not increasing:\n",
    "        print(\"Decreasing order\")\n",
    "        for row in range(ip_vector):\n",
    "            for col in range(n):\n",
    "                print(row**(n-col-1),end=\" \")\n",
    "            print()\n",
    "        print()\n",
    "    elif increasing:\n",
    "        print(\"Increasing Order\")\n",
    "        for row in range(ip_vector):\n",
    "            for col in range(n):\n",
    "                print(row**col,end=\" \")\n",
    "            print()\n",
    "        print()\n",
    "Vandermonde(5,5, increasing = False)\n",
    "Vandermonde(5,5, increasing = True)\n",
    "\n",
    "Vandermonde(5,5,0)\n",
    "Vandermonde(5,5,1)\n",
    "\n"
   ]
  },
  {
   "cell_type": "code",
   "execution_count": null,
   "metadata": {},
   "outputs": [],
   "source": []
  },
  {
   "cell_type": "code",
   "execution_count": null,
   "metadata": {},
   "outputs": [],
   "source": []
  }
 ],
 "metadata": {
  "kernelspec": {
   "display_name": "Python 3",
   "language": "python",
   "name": "python3"
  },
  "language_info": {
   "codemirror_mode": {
    "name": "ipython",
    "version": 3
   },
   "file_extension": ".py",
   "mimetype": "text/x-python",
   "name": "python",
   "nbconvert_exporter": "python",
   "pygments_lexer": "ipython3",
   "version": "3.7.4"
  }
 },
 "nbformat": 4,
 "nbformat_minor": 2
}
